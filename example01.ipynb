{
 "cells": [
  {
   "cell_type": "code",
   "execution_count": 2,
   "id": "09697019-7710-4056-af7a-2262f3f05d2f",
   "metadata": {},
   "outputs": [],
   "source": [
    "from sklearn.linear_model import LinearRegression\n",
    "import numpy as np\n",
    "\n",
    "#วิธีที่ 1\n",
    "data = [[2, 6],\n",
    "        [4, 10],\n",
    "        [6, 11],\n",
    "        [10, 22],\n",
    "        [12, 25]]\n",
    "#เเปลงเป็นอาร์เรย์เพื่อให้จัดการด้วย method ของ numpy ได้\n",
    "data = np.array(data)\n",
    "\n",
    "# เเปลงให้คอลัมภ์ Feature เป็นอาร์เรย์ 2 มิติ ที่มี 1 คอลัมน์\n",
    "x = data[:,0].reshape(-1,1)\n",
    "\n",
    "# คอลัมภ์ target จะเเปลงเป็นอาร์เรย์ 2 มิติ ด้วย reshape หรือไม่ก็ได้\n",
    "y = data[:,1].reshape(-1,1)\n",
    "# ถ้าไม่เเปลง ก็นำค่า y = data[:,1] ไปใช้ได้เลย\n",
    "print(x)\n",
    "print(y)\n"
   ]
  },
  {
   "cell_type": "code",
   "execution_count": null,
   "id": "3575651d-7f5a-4277-a66e-17475dbc8db3",
   "metadata": {},
   "outputs": [],
   "source": [
    "print(x)"
   ]
  },
  {
   "cell_type": "code",
   "execution_count": null,
   "id": "e0a50f54-c7f9-4dd0-961f-01c3823c781f",
   "metadata": {},
   "outputs": [],
   "source": [
    "print(y)"
   ]
  },
  {
   "cell_type": "code",
   "execution_count": null,
   "id": "9b30329f-a8b6-47f9-8e0c-4e1c28356fe9",
   "metadata": {},
   "outputs": [],
   "source": [
    "#วิธีที่ 2\n",
    "# กำหนดข้อมูล feature/target เเยกกันเเละให้เเต่ละเเถวเป็น 2 มิติ ตั้งเเต่เเรก\n",
    "x =[[2], [4], [6], [10], [12]]\n",
    "y =[[6], [10], [11], [22], [25]]\n",
    "#หรือ\n",
    "# y =[6, 10, 11, 22, 25]\n",
    "# นำตัวเเปร x, y ไปใช้ในขั้นตอนต่อไปได้เลย"
   ]
  },
  {
   "cell_type": "code",
   "execution_count": null,
   "id": "47f9a39c-305f-42a9-b430-308a0ca0ba4a",
   "metadata": {},
   "outputs": [],
   "source": [
    "# วิธีที่ 3\n",
    "# อาจกำหนด Feature เป็นอาร์เรย์มิติเดียวก่อน เเล้วค่อยเเปลงเป็น 2 มิติ ด้วย reshape()\n",
    "x = [2, 4, 6, 10, 12]\n",
    "x = np.array(x).reshape(-1,1)\n",
    "\n",
    "y = [6, 10, 11, 22, 25]\n",
    "y = np.array(y).reshape(-1,1)   #จะเเปลงหรือไม่ก็ได้ \n",
    "\n",
    "# ถ้าเข้าใจหลักการเเล้ว จะใช้วิธีอื่นๆ ที่ต่างจากที่กล่าวมานี้ก็ได้\n"
   ]
  },
  {
   "cell_type": "code",
   "execution_count": null,
   "id": "f3864518-0d26-47d9-a8fe-f48f8eef2456",
   "metadata": {},
   "outputs": [],
   "source": [
    "#กรณีข้อมูลถูกจัดเก็บไว้ใน dataframe\n",
    "df = pd.read_csv(...)\n",
    "x= df['col1']\n",
    "x = np.array(x).reshape(-1,1)\n",
    "y = df['label']\n",
    "# นำตัวเเปร x, y ไปใช้ในขั้นตอนต่อไปได้เลย"
   ]
  },
  {
   "cell_type": "code",
   "execution_count": null,
   "id": "d4aab58a-3099-4076-a58c-7b9b5ec1446e",
   "metadata": {},
   "outputs": [],
   "source": [
    "#เทรนโมเดล\n",
    "model.fit(x,y)"
   ]
  },
  {
   "cell_type": "code",
   "execution_count": null,
   "id": "71aaea7a-bf0a-457f-8a00-b530d4ebea85",
   "metadata": {},
   "outputs": [],
   "source": [
    "#ทำนายผล พร้อมกำหนดค่าตัวเเปร x ในรูปเเบบ list หรือ อาร์เรย์ 2 มิติ (จะทำหลังจากทำ fit เเล้วเท่านั้น)\n",
    "y_5 = model.predict([[5]])\n",
    "y_9 = model.predict([[9]])"
   ]
  },
  {
   "cell_type": "code",
   "execution_count": null,
   "id": "8696a5e4-59dd-4c29-a361-2a089f313031",
   "metadata": {},
   "outputs": [],
   "source": [
    "#ค่าที่ได้จาก predict() จะอยู่ในรูปเเบบของอาร์เรย์เเม้จะมีสมาชิกตัวเดียว  หากต้องการเฉพาะค่าของมัน\n",
    "# ให้ระบุลำดับต่อท้าย (index) เช่นเดียวกัยการอ่านค่าของอาร์เรย์ทั่วไป เช่น\n",
    "y_5 = model.predict([[5]])\n",
    "print(y_5)\n",
    "print(y_5[0])\n",
    "\n",
    "y_9 = model.predict([[9]])\n",
    "print(y_9)\n",
    "print(y_9[0])"
   ]
  },
  {
   "cell_type": "code",
   "execution_count": null,
   "id": "65a087e3-85cf-4120-bf1b-f1c83005d7fc",
   "metadata": {},
   "outputs": [],
   "source": [
    "#ทำนายหลายๆค่าพร้อมๆ กัน\n",
    "x_predict = [[5], [9], [11]]\n",
    "#หรือเเบบนี้\n",
    "# x_predict = [5, 9, 11]\n",
    "# x_predict = np.array(x_predict).reshape(-1,1)\n",
    "\n",
    "y_predict = model.predict(x_predict)\n",
    "print(y_predict)\n",
    "print('x= 5, y=' y_predict[0])\n",
    "print('x= 9, y=' y_predict[1])\n",
    "print('x= 11, y=' y_predict[2])"
   ]
  },
  {
   "cell_type": "code",
   "execution_count": null,
   "id": "8326b43a-12ba-42be-abec-edfad16c4aa3",
   "metadata": {},
   "outputs": [],
   "source": [
    "# หาค่าจุดตัวเเกน y เเละค่าสัมประสิทธิ์\n",
    "intercept = model.intercept_\n",
    "print(intercept)\n",
    "\n",
    "coefficient = model.coef_\n",
    "print(coefficient)"
   ]
  }
 ],
 "metadata": {
  "kernelspec": {
   "display_name": "Python 3 (ipykernel)",
   "language": "python",
   "name": "python3"
  },
  "language_info": {
   "codemirror_mode": {
    "name": "ipython",
    "version": 3
   },
   "file_extension": ".py",
   "mimetype": "text/x-python",
   "name": "python",
   "nbconvert_exporter": "python",
   "pygments_lexer": "ipython3",
   "version": "3.13.0"
  }
 },
 "nbformat": 4,
 "nbformat_minor": 5
}
