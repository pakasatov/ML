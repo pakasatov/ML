{
 "cells": [
  {
   "cell_type": "code",
   "execution_count": 1,
   "id": "53350f28-e5ca-4ae7-8e32-62f8f6b4dee6",
   "metadata": {},
   "outputs": [
    {
     "name": "stdout",
     "output_type": "stream",
     "text": [
      "สมการทำนายผลคือ y = 31.37 + (0.75)x1 + (1.51)x2\n",
      "x1 = 6, x2 = 6, y = 44.92\n",
      "x1 = 7, x2 = 6, y = 45.67\n"
     ]
    }
   ],
   "source": [
    "#example 4-9\n",
    "\n",
    "from sklearn.linear_model import LinearRegression\n",
    "import numpy as np\n",
    "\n",
    "d = [[8, 4, 45],    #แถวที่ 1 คอลัมน์ 1 และ 2\n",
    "     [7, 5, 44],    #แถวที่ 2 คอลัมน์ 1 และ 2 \n",
    "     [8, 6, 50],    #แถวที่ 3 คอลัมน์ 1 และ 2 \n",
    "     [6, 6, 43],    #แถวที่ 4 คอลัมน์ 1 และ 2 \n",
    "     [9, 5, 45],    #แถวที่ 5 คอลัมน์ 1 และ 2 \n",
    "     [8, 3, 44],    #แถวที่ 6 คอลัมน์ 1 และ 2 \n",
    "     [9, 4, 40],    #แถวที่ 7 คอลัมน์ 1 และ 2\n",
    "     [6, 5, 43]]    #แถวที่ 8 คอลัมน์ 1 และ 2\n",
    "\n",
    "d = np.array(d)\n",
    "x = d[:, 0:2]\n",
    "y = d[:, 2]\n",
    "\n",
    "\n",
    "model = LinearRegression()\n",
    "model.fit(x, y)\n",
    "\n",
    "ic = '{:.2f}'.format(model.intercept_)\n",
    "ce1 = '{:.2f}'.format(model.coef_[0])\n",
    "ce2 = '{:.2f}'.format(model.coef_[1])\n",
    "print(f'สมการทำนายผลคือ y = {ic} + ({ce1})x1 + ({ce2})x2')\n",
    "\n",
    "x_predict = [[6, 6], [7, 6]]\n",
    "y_predict = model.predict(x_predict)\n",
    "\n",
    "p_6_6 = '{:.2f}'.format(y_predict[0])\n",
    "p_7_6 = '{:.2f}'.format(y_predict[1])\n",
    "\n",
    "print(f'x1 = 6, x2 = 6, y = {p_6_6}')\n",
    "print(f'x1 = 7, x2 = 6, y = {p_7_6}')"
   ]
  },
  {
   "cell_type": "code",
   "execution_count": null,
   "id": "2ba834bf-a76c-49f3-8f15-d061f183b09f",
   "metadata": {},
   "outputs": [],
   "source": []
  }
 ],
 "metadata": {
  "kernelspec": {
   "display_name": "Python 3 (ipykernel)",
   "language": "python",
   "name": "python3"
  },
  "language_info": {
   "codemirror_mode": {
    "name": "ipython",
    "version": 3
   },
   "file_extension": ".py",
   "mimetype": "text/x-python",
   "name": "python",
   "nbconvert_exporter": "python",
   "pygments_lexer": "ipython3",
   "version": "3.13.0"
  }
 },
 "nbformat": 4,
 "nbformat_minor": 5
}
