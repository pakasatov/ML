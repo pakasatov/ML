{
 "cells": [
  {
   "cell_type": "code",
   "execution_count": 1,
   "id": "7e6137a3-659e-4af6-8d25-2c1923307e9a",
   "metadata": {},
   "outputs": [
    {
     "name": "stdout",
     "output_type": "stream",
     "text": [
      "x = 5, y = 10.838095238095235\n",
      "x = 9, y = 18.495238095238093\n",
      "x = 11, y = 22.323809523809523\n",
      "intercept = 1.2666666666666604\n",
      "coefficient = 1.914285714285715\n"
     ]
    }
   ],
   "source": [
    "#example 4-3\n",
    "\n",
    "from sklearn.linear_model import LinearRegression\n",
    "import numpy as np\n",
    "\n",
    "\n",
    "data = [[2, 6], \n",
    "        [4, 10], \n",
    "        [6, 11], \n",
    "        [8, 14], \n",
    "        [10, 22], \n",
    "        [12, 25]]\n",
    "\n",
    "data = np.array(data)\n",
    "x = data[:, 0].reshape(-1, 1)\n",
    "y = data[:, 1].reshape(-1, 1)\n",
    "\n",
    "'''\n",
    "x = [[2], [4], [6], [10], [12]]\n",
    "#y = [[6], [10], [11], [22], [25]]\n",
    "y = [6, 10, 11, 22, 25]\n",
    "'''\n",
    "\n",
    "'''\n",
    "x = [2, 4, 6, 10, 12]\n",
    "x = np.array(x).reshape(-1, 1)\n",
    "\n",
    "y = [6, 10, 11, 22, 25]\n",
    "y = np.array(y).reshape(-1, 1)\n",
    "'''\n",
    "\n",
    "model = LinearRegression()\n",
    "model.fit(x, y)\n",
    "\n",
    "y_5 = model.predict([[5]])\n",
    "print('x = 5, y =', y_5[0, 0])\n",
    "\n",
    "y_9 = model.predict([[9]])\n",
    "print('x = 9, y =', y_9[0, 0])\n",
    "      \n",
    "y_11 = model.predict([[11]])\n",
    "print('x = 11, y =', y_11[0, 0])      \n",
    "\n",
    "print('intercept =', model.intercept_[0])\n",
    "print('coefficient =', model.coef_[0, 0])\n"
   ]
  },
  {
   "cell_type": "code",
   "execution_count": null,
   "id": "c3a60091-65bc-4b63-9e54-315a0b2a963e",
   "metadata": {},
   "outputs": [],
   "source": []
  }
 ],
 "metadata": {
  "kernelspec": {
   "display_name": "Python 3 (ipykernel)",
   "language": "python",
   "name": "python3"
  },
  "language_info": {
   "codemirror_mode": {
    "name": "ipython",
    "version": 3
   },
   "file_extension": ".py",
   "mimetype": "text/x-python",
   "name": "python",
   "nbconvert_exporter": "python",
   "pygments_lexer": "ipython3",
   "version": "3.13.0"
  }
 },
 "nbformat": 4,
 "nbformat_minor": 5
}
