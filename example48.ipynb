{
 "cells": [
  {
   "cell_type": "code",
   "execution_count": 1,
   "id": "c0caa5ce-88de-4820-b04e-8ae93cd3d4dc",
   "metadata": {},
   "outputs": [
    {
     "data": {
      "text/html": [
       "<div>\n",
       "<style scoped>\n",
       "    .dataframe tbody tr th:only-of-type {\n",
       "        vertical-align: middle;\n",
       "    }\n",
       "\n",
       "    .dataframe tbody tr th {\n",
       "        vertical-align: top;\n",
       "    }\n",
       "\n",
       "    .dataframe thead th {\n",
       "        text-align: right;\n",
       "    }\n",
       "</style>\n",
       "<table border=\"1\" class=\"dataframe\">\n",
       "  <thead>\n",
       "    <tr style=\"text-align: right;\">\n",
       "      <th></th>\n",
       "      <th>Gestational_Age_wks</th>\n",
       "      <th>Birth_Weight_gm</th>\n",
       "    </tr>\n",
       "  </thead>\n",
       "  <tbody>\n",
       "    <tr>\n",
       "      <th>0</th>\n",
       "      <td>34.7</td>\n",
       "      <td>1895</td>\n",
       "    </tr>\n",
       "    <tr>\n",
       "      <th>1</th>\n",
       "      <td>36.0</td>\n",
       "      <td>2030</td>\n",
       "    </tr>\n",
       "    <tr>\n",
       "      <th>2</th>\n",
       "      <td>29.3</td>\n",
       "      <td>1440</td>\n",
       "    </tr>\n",
       "    <tr>\n",
       "      <th>...</th>\n",
       "      <td>...</td>\n",
       "      <td>...</td>\n",
       "    </tr>\n",
       "    <tr>\n",
       "      <th>14</th>\n",
       "      <td>41.1</td>\n",
       "      <td>3260</td>\n",
       "    </tr>\n",
       "    <tr>\n",
       "      <th>15</th>\n",
       "      <td>38.0</td>\n",
       "      <td>2680</td>\n",
       "    </tr>\n",
       "    <tr>\n",
       "      <th>16</th>\n",
       "      <td>38.7</td>\n",
       "      <td>2005</td>\n",
       "    </tr>\n",
       "  </tbody>\n",
       "</table>\n",
       "<p>17 rows × 2 columns</p>\n",
       "</div>"
      ],
      "text/plain": [
       "    Gestational_Age_wks  Birth_Weight_gm\n",
       "0                  34.7             1895\n",
       "1                  36.0             2030\n",
       "2                  29.3             1440\n",
       "..                  ...              ...\n",
       "14                 41.1             3260\n",
       "15                 38.0             2680\n",
       "16                 38.7             2005\n",
       "\n",
       "[17 rows x 2 columns]"
      ]
     },
     "metadata": {},
     "output_type": "display_data"
    },
    {
     "data": {
      "image/png": "[encoded data removed]",
      "text/plain": [
       "<Figure size 400x300 with 1 Axes>"
      ]
     },
     "metadata": {},
     "output_type": "display_data"
    },
    {
     "name": "stdout",
     "output_type": "stream",
     "text": [
      "MSE: 151544.06\n",
      "RMSE: 389.29\n",
      "R-Squared: 0.67\n",
      "สมการทำนายผลคือ y = -4020.05 + (180.46)x\n"
     ]
    },
    {
     "data": {
      "image/png": "[encoded data removed]",
      "text/plain": [
       "<Figure size 400x300 with 1 Axes>"
      ]
     },
     "metadata": {},
     "output_type": "display_data"
    }
   ],
   "source": [
    "#example 4-8\n",
    "\n",
    "from sklearn.linear_model import LinearRegression\n",
    "from sklearn.metrics import mean_squared_error\n",
    "import numpy as np\n",
    "import matplotlib.pyplot as plt\n",
    "import pandas as pd\n",
    "from sklearn.metrics import r2_score\n",
    "\n",
    "df = pd.read_excel(r'data\\birth_weight.xlsx')\n",
    "with pd.option_context('display.max_rows', 6): display(df)\n",
    "\n",
    "x = df['Gestational_Age_wks']\n",
    "y = df['Birth_Weight_gm']\n",
    "\n",
    "\n",
    "plt.figure(figsize=(4, 3))\n",
    "plt.scatter(x, y)\n",
    "plt.show()\n",
    "\n",
    "\n",
    "x = np.array(x).reshape(-1, 1)\n",
    "\n",
    "model = LinearRegression()\n",
    "model.fit(x, y)\n",
    "\n",
    "y_predict = model.predict(x)\n",
    "\n",
    "mse = mean_squared_error(y, y_predict)\n",
    "rmse = np.sqrt(mse)\n",
    "\n",
    "print('MSE:', '{:.2f}'.format(mse))\n",
    "print('RMSE:', '{:.2f}'.format(rmse))\n",
    "\n",
    "score = model.score(x, y)\n",
    "#score = r2_score(y, y_predict)\n",
    "\n",
    "print('R-Squared:', '{:.2f}'.format(score))\n",
    "\n",
    "ic = '{:.2f}'.format(model.intercept_)\n",
    "ce = '{:.2f}'.format(model.coef_[0])\n",
    "print(f'สมการทำนายผลคือ y = {ic} + ({ce})x')\n",
    "\n",
    "plt.figure(figsize=(4, 3))\n",
    "plt.scatter(x, y, color = 'black')\n",
    "plt.scatter(x,y_predict, color = 'blue', linewidth = 3)\n",
    "plt.plot(x, y_predict, ls = '-')\n",
    "plt.show()"
   ]
  },
  {
   "cell_type": "code",
   "execution_count": null,
   "id": "e5fd76d3-b0bf-4a84-abe6-4e775b4c9243",
   "metadata": {},
   "outputs": [],
   "source": []
  }
 ],
 "metadata": {
  "kernelspec": {
   "display_name": "Python 3 (ipykernel)",
   "language": "python",
   "name": "python3"
  },
  "language_info": {
   "codemirror_mode": {
    "name": "ipython",
    "version": 3
   },
   "file_extension": ".py",
   "mimetype": "text/x-python",
   "name": "python",
   "nbconvert_exporter": "python",
   "pygments_lexer": "ipython3",
   "version": "3.13.0"
  }
 },
 "nbformat": 4,
 "nbformat_minor": 5
}
