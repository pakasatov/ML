{
 "cells": [
  {
   "cell_type": "code",
   "execution_count": 1,
   "id": "20a76dd0-d304-4962-995d-3072448fa417",
   "metadata": {},
   "outputs": [
    {
     "name": "stdout",
     "output_type": "stream",
     "text": [
      "ขนาดเครื่องยนต์: 2300, หนัก: 1300, จะปล่อย CO2: 107\n",
      "R-Squared: 0.39\n",
      "สมการทำนายผลคือ y = 79.52 + (0.0075)x1 + (0.0081)x2\n"
     ]
    },
    {
     "name": "stderr",
     "output_type": "stream",
     "text": [
      "C:\\Users\\User\\AppData\\Local\\Programs\\Python\\Python313\\Lib\\site-packages\\sklearn\\base.py:493: UserWarning: X does not have valid feature names, but LinearRegression was fitted with feature names\n",
      "  warnings.warn(\n"
     ]
    }
   ],
   "source": [
    "#example 4-11\n",
    "\n",
    "import pandas as pd\n",
    "import matplotlib.pyplot as plt\n",
    "from sklearn.linear_model import LinearRegression\n",
    "from sklearn.model_selection import train_test_split\n",
    "\n",
    "df = pd.read_csv(r'data\\co2-emission.csv')\n",
    "#with pd.option_context('display.max_rows', 8): display(df)\n",
    "\n",
    "x1 = df['volume']\n",
    "x2 = df['weight']\n",
    "y = df['co2']\n",
    "\n",
    "'''\n",
    "plt.scatter(x1, y, c='b')\n",
    "plt.xlabel('volume')\n",
    "plt.ylabel('co2')\n",
    "plt.show()\n",
    "\n",
    "plt.scatter(x2, y, c='r')\n",
    "plt.xlabel('weight')\n",
    "plt.ylabel('co2')\n",
    "plt.show()\n",
    "'''\n",
    "\n",
    "x = df[['volume','weight']]\n",
    "\n",
    "x_train, x_test, y_train, y_test = train_test_split(x, y, random_state=0)\n",
    "\n",
    "model = LinearRegression()\n",
    "model.fit(x_train, y_train)\n",
    "\n",
    "#ทำนายการปล่อย CO2 เมื่อ ขนาดเครื่องยนต์: 2300, น้ำหนัก: 1300\n",
    "x_predict = [[2300, 1300]]\n",
    "y_predict = model.predict((x_predict))\n",
    "\n",
    "for (i, x_p) in enumerate(x_predict):\n",
    "    co2 = '{:,.0f}'.format(y_predict[i])\n",
    "    print(f'ขนาดเครื่องยนต์: {x_p[0]}, หนัก: {x_p[1]}, จะปล่อย CO2: {co2}')\n",
    "\n",
    "score = model.score(x_test, y_test)\n",
    "print('R-Squared:', '{:.2f}'.format(score))\n",
    "\n",
    "ic = '{:.2f}'.format(model.intercept_)\n",
    "ce1 = '{:.4f}'.format(model.coef_[0])\n",
    "ce2 = '{:.4f}'.format(model.coef_[1])\n",
    "print(f'สมการทำนายผลคือ y = {ic} + ({ce1})x1 + ({ce2})x2')"
   ]
  }
 ],
 "metadata": {
  "kernelspec": {
   "display_name": "Python 3 (ipykernel)",
   "language": "python",
   "name": "python3"
  },
  "language_info": {
   "codemirror_mode": {
    "name": "ipython",
    "version": 3
   },
   "file_extension": ".py",
   "mimetype": "text/x-python",
   "name": "python",
   "nbconvert_exporter": "python",
   "pygments_lexer": "ipython3",
   "version": "3.13.0"
  }
 },
 "nbformat": 4,
 "nbformat_minor": 5
}
