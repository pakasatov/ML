{
 "cells": [
  {
   "cell_type": "code",
   "execution_count": 1,
   "id": "e2294daf-fb5b-434c-8cc3-1322466583d4",
   "metadata": {},
   "outputs": [
    {
     "name": "stdout",
     "output_type": "stream",
     "text": [
      "ถ้า x = [4, 4], y = no\n",
      "ถ้า x = [5, 5], y = yes\n",
      "\n",
      "ความน่าจะเป็น\n",
      "[[0.69084069 0.30915931]\n",
      " [0.46545907 0.53454093]]\n"
     ]
    }
   ],
   "source": [
    "#example 5-1\n",
    "\n",
    "from sklearn.linear_model import LogisticRegression\n",
    "\n",
    "model = LogisticRegression()\n",
    "\n",
    "x = [[8, 6], [3, 5], [4, 9], [5, 8], [9, 9]]  #[[x1, x2], ...]\n",
    "y = ['yes', 'no', 'no', 'yes', 'yes']\n",
    "\n",
    "model.fit(x, y)\n",
    "\n",
    "#ทำนายผลเมื่อ x1=4, x2=4, y=? และ x1=5, x2=5, y=?\n",
    "x_predict = [[4, 4], [5, 5]]\n",
    "y_predict = model.predict(x_predict)\n",
    "\n",
    "print('ถ้า x = [4, 4], y =', y_predict[0])\n",
    "print('ถ้า x = [5, 5], y =', y_predict[1])\n",
    "print()\n",
    "print('ความน่าจะเป็น')\n",
    "prob = model.predict_proba(x_predict)\n",
    "print(prob)"
   ]
  },
  {
   "cell_type": "code",
   "execution_count": null,
   "id": "17d372ec-78eb-4a09-92f0-09a606300560",
   "metadata": {},
   "outputs": [],
   "source": []
  }
 ],
 "metadata": {
  "kernelspec": {
   "display_name": "Python 3 (ipykernel)",
   "language": "python",
   "name": "python3"
  },
  "language_info": {
   "codemirror_mode": {
    "name": "ipython",
    "version": 3
   },
   "file_extension": ".py",
   "mimetype": "text/x-python",
   "name": "python",
   "nbconvert_exporter": "python",
   "pygments_lexer": "ipython3",
   "version": "3.13.0"
  }
 },
 "nbformat": 4,
 "nbformat_minor": 5
}
