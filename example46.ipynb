{
 "cells": [
  {
   "cell_type": "code",
   "execution_count": 1,
   "id": "5d0fc745-d7be-4676-9099-c7be766af3e4",
   "metadata": {},
   "outputs": [
    {
     "name": "stdout",
     "output_type": "stream",
     "text": [
      "R-Squared: 0.9453843453843453\n",
      "\n",
      "หรือมีระดับความแม่นยำประมาณ 94.54%\n"
     ]
    }
   ],
   "source": [
    "#example 4-6\n",
    "\n",
    "from sklearn.linear_model import LinearRegression\n",
    "import numpy as np\n",
    "from sklearn.metrics import r2_score\n",
    "\n",
    "x = np.array([2, 4, 6, 8, 10, 12]).reshape(-1, 1)\n",
    "y = [6, 10, 11, 14, 22, 25]\n",
    "\n",
    "model = LinearRegression()\n",
    "model.fit(x, y)\n",
    "\n",
    "score = model.score(x, y)\n",
    "\n",
    "#y_predict = model.predict(x)\n",
    "#score = r2_score(y, y_predict)\n",
    "\n",
    "print('R-Squared:', score)\n",
    "print()\n",
    "\n",
    "accuracy = score * 100\n",
    "accuracy = '{:.2f}'.format(accuracy)\n",
    "print(f'หรือมีระดับความแม่นยำประมาณ {accuracy}%')\n"
   ]
  },
  {
   "cell_type": "code",
   "execution_count": null,
   "id": "f67fc13c-4431-4c53-87f3-941e70a354fa",
   "metadata": {},
   "outputs": [],
   "source": []
  }
 ],
 "metadata": {
  "kernelspec": {
   "display_name": "Python 3 (ipykernel)",
   "language": "python",
   "name": "python3"
  },
  "language_info": {
   "codemirror_mode": {
    "name": "ipython",
    "version": 3
   },
   "file_extension": ".py",
   "mimetype": "text/x-python",
   "name": "python",
   "nbconvert_exporter": "python",
   "pygments_lexer": "ipython3",
   "version": "3.13.0"
  }
 },
 "nbformat": 4,
 "nbformat_minor": 5
}
