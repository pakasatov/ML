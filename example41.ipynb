{
 "cells": [
  {
   "cell_type": "code",
   "execution_count": null,
   "id": "359aece0-f490-431f-8c76-3a956451e26b",
   "metadata": {},
   "outputs": [],
   "source": []
  }
 ],
 "metadata": {
  "kernelspec": {
   "display_name": "",
   "name": ""
  },
  "language_info": {
   "name": ""
  }
 },
 "nbformat": 4,
 "nbformat_minor": 5
}
