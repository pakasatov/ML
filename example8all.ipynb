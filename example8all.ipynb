{
 "cells": [
  {
   "cell_type": "code",
   "execution_count": 3,
   "id": "106ef491-539d-4677-bddb-73bbe2905692",
   "metadata": {},
   "outputs": [
    {
     "data": {
      "text/html": [
       "<div>\n",
       "<style scoped>\n",
       "    .dataframe tbody tr th:only-of-type {\n",
       "        vertical-align: middle;\n",
       "    }\n",
       "\n",
       "    .dataframe tbody tr th {\n",
       "        vertical-align: top;\n",
       "    }\n",
       "\n",
       "    .dataframe thead th {\n",
       "        text-align: right;\n",
       "    }\n",
       "</style>\n",
       "<table border=\"1\" class=\"dataframe\">\n",
       "  <thead>\n",
       "    <tr style=\"text-align: right;\">\n",
       "      <th></th>\n",
       "      <th>Weather</th>\n",
       "      <th>TimeOfWeek</th>\n",
       "      <th>TimeOfDay</th>\n",
       "      <th>TrafficJam</th>\n",
       "    </tr>\n",
       "  </thead>\n",
       "  <tbody>\n",
       "    <tr>\n",
       "      <th>0</th>\n",
       "      <td>Clear</td>\n",
       "      <td>Workday</td>\n",
       "      <td>Morning</td>\n",
       "      <td>Yes</td>\n",
       "    </tr>\n",
       "    <tr>\n",
       "      <th>1</th>\n",
       "      <td>Clear</td>\n",
       "      <td>Workday</td>\n",
       "      <td>Lunch</td>\n",
       "      <td>No</td>\n",
       "    </tr>\n",
       "    <tr>\n",
       "      <th>2</th>\n",
       "      <td>Clear</td>\n",
       "      <td>Workday</td>\n",
       "      <td>Evening</td>\n",
       "      <td>Yes</td>\n",
       "    </tr>\n",
       "    <tr>\n",
       "      <th>3</th>\n",
       "      <td>Clear</td>\n",
       "      <td>Weekend</td>\n",
       "      <td>Morning</td>\n",
       "      <td>No</td>\n",
       "    </tr>\n",
       "    <tr>\n",
       "      <th>4</th>\n",
       "      <td>Clear</td>\n",
       "      <td>Weekend</td>\n",
       "      <td>Lunch</td>\n",
       "      <td>No</td>\n",
       "    </tr>\n",
       "  </tbody>\n",
       "</table>\n",
       "</div>"
      ],
      "text/plain": [
       "  Weather TimeOfWeek TimeOfDay TrafficJam\n",
       "0   Clear    Workday   Morning        Yes\n",
       "1   Clear    Workday     Lunch         No\n",
       "2   Clear    Workday   Evening        Yes\n",
       "3   Clear    Weekend   Morning         No\n",
       "4   Clear    Weekend     Lunch         No"
      ]
     },
     "metadata": {},
     "output_type": "display_data"
    },
    {
     "data": {
      "text/html": [
       "<div>\n",
       "<style scoped>\n",
       "    .dataframe tbody tr th:only-of-type {\n",
       "        vertical-align: middle;\n",
       "    }\n",
       "\n",
       "    .dataframe tbody tr th {\n",
       "        vertical-align: top;\n",
       "    }\n",
       "\n",
       "    .dataframe thead th {\n",
       "        text-align: right;\n",
       "    }\n",
       "</style>\n",
       "<table border=\"1\" class=\"dataframe\">\n",
       "  <thead>\n",
       "    <tr style=\"text-align: right;\">\n",
       "      <th></th>\n",
       "      <th>Weather</th>\n",
       "      <th>TimeOfWeek</th>\n",
       "      <th>TimeOfDay</th>\n",
       "    </tr>\n",
       "  </thead>\n",
       "  <tbody>\n",
       "    <tr>\n",
       "      <th>0</th>\n",
       "      <td>0</td>\n",
       "      <td>1</td>\n",
       "      <td>2</td>\n",
       "    </tr>\n",
       "    <tr>\n",
       "      <th>1</th>\n",
       "      <td>0</td>\n",
       "      <td>1</td>\n",
       "      <td>1</td>\n",
       "    </tr>\n",
       "    <tr>\n",
       "      <th>2</th>\n",
       "      <td>0</td>\n",
       "      <td>1</td>\n",
       "      <td>0</td>\n",
       "    </tr>\n",
       "    <tr>\n",
       "      <th>3</th>\n",
       "      <td>0</td>\n",
       "      <td>0</td>\n",
       "      <td>2</td>\n",
       "    </tr>\n",
       "    <tr>\n",
       "      <th>4</th>\n",
       "      <td>0</td>\n",
       "      <td>0</td>\n",
       "      <td>1</td>\n",
       "    </tr>\n",
       "  </tbody>\n",
       "</table>\n",
       "</div>"
      ],
      "text/plain": [
       "   Weather  TimeOfWeek  TimeOfDay\n",
       "0        0           1          2\n",
       "1        0           1          1\n",
       "2        0           1          0\n",
       "3        0           0          2\n",
       "4        0           0          1"
      ]
     },
     "metadata": {},
     "output_type": "display_data"
    },
    {
     "name": "stderr",
     "output_type": "stream",
     "text": [
      "C:\\Users\\User\\AppData\\Local\\Programs\\Python\\Python313\\Lib\\site-packages\\sklearn\\base.py:493: UserWarning: X does not have valid feature names, but GaussianNB was fitted with feature names\n",
      "  warnings.warn(\n"
     ]
    },
    {
     "name": "stdout",
     "output_type": "stream",
     "text": [
      "Prediction => TrafficJam: Yes\n",
      "Accuracy: 0.83\n"
     ]
    }
   ],
   "source": [
    "#example 8-4\n",
    "\n",
    "from sklearn.preprocessing import LabelEncoder \n",
    "from sklearn.naive_bayes import GaussianNB\n",
    "import pandas as pd\n",
    "import numpy as np\n",
    "\n",
    "df = pd.read_excel(r'data\\traffic.xlsx')\n",
    "#with pd.option_context('display.max_rows', 10): display(df)\n",
    "\n",
    "#features => df[['Weather', 'TimeOfWeek', 'TimeOfDay']]\n",
    "x = df.iloc[:, 0:3].apply(LabelEncoder().fit_transform)\n",
    "y = df['TrafficJam']\n",
    "\n",
    "model = GaussianNB()\n",
    "model.fit(x, y)\n",
    "\n",
    "#ก่อนจะทำนายผล ให้ตรวจสอบข้อมูล\n",
    "#โดยแสดงผลออกมาดูว่า\n",
    "#สตริงที่แต่ละค่านั้นถูกเข้ารหัสเป็นเลขอะไร\n",
    "display(df.head())\n",
    "display(x.head())\n",
    "\n",
    "#เมื่อเขียนโค้ดมาถึงตรงนี้ เราต้องรันดูผลลัพธ์ก่อน แล้วค่อยเขียนโค้ดขั้นตอนต่อไป\n",
    "\n",
    "#ถ้าเราต้องการทำนายผลสำหรับกรณี \n",
    "#Weather: Clear, TimeOfWeek: Workday, TimeOfDay: Lunch\n",
    "#ก็กำหนดตัวเลขให้ตรงกัน เช่น\n",
    "#'Clear' => 0, 'Workday' => 1, 'Lunch' => 1\n",
    "\n",
    "x_predict = [ [0, 1, 1]]  #np.array([0, 1, 1]).reshape(-1, 1)\n",
    "y_predict = model.predict(x_predict)\n",
    "\n",
    "print('Prediction => TrafficJam:', y_predict[0])\n",
    "print('Accuracy:', '{:.2f}'.format(model.score(x, y)))"
   ]
  },
  {
   "cell_type": "code",
   "execution_count": 16,
   "id": "450b2a6b-5b00-4b18-b12d-a73456240dc2",
   "metadata": {},
   "outputs": [
    {
     "name": "stdout",
     "output_type": "stream",
     "text": [
      "Weather: Clear, TimeOfWeek: Workday, TimeOfDay: Lunch\n",
      "TrafficJam: Yes\n",
      "\n",
      "Accuracy: 0.83\n"
     ]
    },
    {
     "name": "stderr",
     "output_type": "stream",
     "text": [
      "C:\\Users\\User\\AppData\\Local\\Programs\\Python\\Python313\\Lib\\site-packages\\sklearn\\base.py:493: UserWarning: X does not have valid feature names, but GaussianNB was fitted with feature names\n",
      "  warnings.warn(\n"
     ]
    }
   ],
   "source": [
    "#example 8-5\n",
    "\n",
    "from sklearn.preprocessing import LabelEncoder \n",
    "from sklearn.naive_bayes import GaussianNB\n",
    "import pandas as pd\n",
    "\n",
    "df = pd.read_excel(r'data\\traffic.xlsx')\n",
    "#with pd.option_context('display.max_rows', 10): display(df)\n",
    "\n",
    "#ต้องใช้ LabelEncoder เพื่อเข้ารหัสแต่ละคอลัมน์คอลัมน์แยกกัน\n",
    "#เพราะแต่ละคอลัมน์เป็นสตริงคนละชุด\n",
    "weather_encoder = LabelEncoder()\n",
    "df['Weather'] = weather_encoder.fit_transform(df['Weather'])\n",
    "\n",
    "tweek_encoder = LabelEncoder()\n",
    "df['TimeOfWeek'] = tweek_encoder.fit_transform(df['TimeOfWeek'])\n",
    "\n",
    "tday_encoder = LabelEncoder()\n",
    "df['TimeOfDay'] = tday_encoder.fit_transform(df['TimeOfDay'])\n",
    "\n",
    "x = df[['Weather', 'TimeOfWeek', 'TimeOfDay']]  #df.iloc[:, 0:3]\n",
    "y = df['TrafficJam']\n",
    "#with pd.option_context('display.max_rows', 8): display(df)\n",
    "\n",
    "model = GaussianNB()\n",
    "model.fit(x, y)\n",
    "\n",
    "#ถ้าเราต้องการทำนายผลสำหรับกรณี \n",
    "#Weather: Clear, TimeOfWeek: Workday, TimeOfDay: Lunch\n",
    "#หากจะทำนายผลค่าอื่นๆ ให้แก้ไขค่าที่นี่\n",
    "weather = 'Clear'\n",
    "tweek = 'Workday'\n",
    "tday = 'Lunch'\n",
    "\n",
    "#แต่ละคอลัมน์ต้องเข้ารหัสด้วยอินสแตนซ์เดิม\n",
    "#เพื่อใช้ค่าอ้างอิงอันเดียวกัน\n",
    "weather_enc = weather_encoder.transform([weather])\n",
    "tweek_enc = tweek_encoder.transform([tweek])\n",
    "tday_enc = tday_encoder.transform([tday])\n",
    "\n",
    "x_predict = [ [0, 1, 1]]\n",
    "y_predict = model.predict(x_predict)\n",
    "\n",
    "print(f'Weather: {weather}, TimeOfWeek: {tweek}, TimeOfDay: {tday}')\n",
    "print('TrafficJam:', y_predict[0])\n",
    "\n",
    "print()\n",
    "print('Accuracy:', '{:.2f}'.format(model.score(x, y)))"
   ]
  },
  {
   "cell_type": "code",
   "execution_count": 12,
   "id": "38c7952d-41c5-4724-b001-7216a6ee18d4",
   "metadata": {},
   "outputs": [
    {
     "name": "stdout",
     "output_type": "stream",
     "text": [
      "[0]\n"
     ]
    }
   ],
   "source": [
    "print(weather_enc)"
   ]
  },
  {
   "cell_type": "code",
   "execution_count": 14,
   "id": "0ddac871-e168-4ad9-b410-624d32f098d2",
   "metadata": {},
   "outputs": [
    {
     "name": "stdout",
     "output_type": "stream",
     "text": [
      "[1]\n"
     ]
    }
   ],
   "source": [
    "print(tweek_enc)"
   ]
  },
  {
   "cell_type": "code",
   "execution_count": 15,
   "id": "9ddc4f0e-01d7-4d3f-815f-fb839b1b09d2",
   "metadata": {},
   "outputs": [
    {
     "name": "stdout",
     "output_type": "stream",
     "text": [
      "[1]\n"
     ]
    }
   ],
   "source": [
    "print(tday_enc)"
   ]
  },
  {
   "cell_type": "code",
   "execution_count": null,
   "id": "6eab607b-6f9b-439d-8fbf-47942bdf58da",
   "metadata": {},
   "outputs": [],
   "source": []
  }
 ],
 "metadata": {
  "kernelspec": {
   "display_name": "Python 3 (ipykernel)",
   "language": "python",
   "name": "python3"
  },
  "language_info": {
   "codemirror_mode": {
    "name": "ipython",
    "version": 3
   },
   "file_extension": ".py",
   "mimetype": "text/x-python",
   "name": "python",
   "nbconvert_exporter": "python",
   "pygments_lexer": "ipython3",
   "version": "3.13.0"
  }
 },
 "nbformat": 4,
 "nbformat_minor": 5
}
