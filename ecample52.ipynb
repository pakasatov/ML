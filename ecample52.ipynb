{
 "cells": [
  {
   "cell_type": "code",
   "execution_count": 2,
   "id": "d5d9270c-40b4-4e6a-b01c-56aca34e9066",
   "metadata": {},
   "outputs": [
    {
     "name": "stdout",
     "output_type": "stream",
     "text": [
      "Prediction:\n",
      "Study: 2.2 hour(s) => Fail\n",
      "Study: 3.3 hour(s) => Pass\n",
      "Study: 4.4 hour(s) => Pass\n",
      "\n",
      "Logistic Function:\n",
      "P(x) = 1 / (1 + exp(-3.14 + (1.15)x))\n"
     ]
    }
   ],
   "source": [
    "#example 5-2\n",
    "\n",
    "import pandas as pd\n",
    "import numpy as np\n",
    "from sklearn.linear_model import LogisticRegression\n",
    "\n",
    "df = pd.read_csv(r'data\\hours_study.csv')\n",
    "#with pd.option_context('display.max_rows', 6): display(df)\n",
    "\n",
    "x = np.array(df['hours_study']).reshape(-1, 1)\n",
    "y = df['pass']\n",
    "\n",
    "model = LogisticRegression()\n",
    "model.fit(x, y)\n",
    "\n",
    "x_predict = [2.2, 3.3, 4.4]\n",
    "x_predict = np.array(x_predict).reshape(-1, 1)\n",
    "y_predict = model.predict(x_predict)\n",
    "\n",
    "print('Prediction:')\n",
    "for (i, xp) in enumerate(x_predict):\n",
    "    #ถ้าผลลัพธ์เป็น 0 เปลี่ยนเป็น Fail ถ้าเป็น 1 เปลี่ยนเป็น Pass ให้สื่อความเข้าใจได้\n",
    "    r = 'Fail' if y_predict[i] == 0 else 'Pass'\n",
    "    print(f'Study: {xp[0]} hour(s) => {r}')\n",
    "\n",
    "print()\n",
    "print('Logistic Function:') \n",
    "ic = '{:.2f}'.format(model.intercept_[0])\n",
    "ce = '{:.2f}'.format(model.coef_[0, 0])\n",
    "\n",
    "print(f'P(x) = 1 / (1 + exp({ic} + ({ce})x))')"
   ]
  },
  {
   "cell_type": "code",
   "execution_count": null,
   "id": "4447b7e6-0cbd-4a17-8b63-3a7b586c691c",
   "metadata": {},
   "outputs": [],
   "source": []
  }
 ],
 "metadata": {
  "kernelspec": {
   "display_name": "Python 3 (ipykernel)",
   "language": "python",
   "name": "python3"
  },
  "language_info": {
   "codemirror_mode": {
    "name": "ipython",
    "version": 3
   },
   "file_extension": ".py",
   "mimetype": "text/x-python",
   "name": "python",
   "nbconvert_exporter": "python",
   "pygments_lexer": "ipython3",
   "version": "3.13.0"
  }
 },
 "nbformat": 4,
 "nbformat_minor": 5
}
