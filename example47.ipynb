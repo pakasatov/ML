{
 "cells": [
  {
   "cell_type": "code",
   "execution_count": 4,
   "id": "acef042f-6474-4010-b069-359473c418d5",
   "metadata": {},
   "outputs": [
    {
     "name": "stdout",
     "output_type": "stream",
     "text": [
      "R-Squared: 0.8057\n",
      "\n",
      "หรือมีระดับความแม่นยำประมาณ 80.57%\n"
     ]
    }
   ],
   "source": [
    "#example 4-7\n",
    "\n",
    "from sklearn.linear_model import LinearRegression\n",
    "from sklearn.model_selection import train_test_split\n",
    "import numpy as np\n",
    "import pandas as pd\n",
    "import matplotlib.pyplot as plt\n",
    "from sklearn.metrics import r2_score\n",
    "\n",
    "df = pd.read_excel(r'data\\umbrellas_sold_1.xlsx')\n",
    "x = df['rainfall_mm']\n",
    "x = np.array(x).reshape(-1, 1)\n",
    "y = df['umbrellas_sold']\n",
    "\n",
    "x_train, x_test, y_train, y_test = train_test_split(x, y, random_state=0)\n",
    "\n",
    "model = LinearRegression()\n",
    "model.fit(x_train, y_train)\n",
    "\n",
    "score = model.score(x_test, y_test)\n",
    "\n",
    "#y_predict = model.predict(x_test)\n",
    "#score = r2_score(y_test, y_predict)\n",
    "\n",
    "print('R-Squared:', '{:.4f}'.format(score))\n",
    "print()\n",
    "\n",
    "accuracy = score * 100\n",
    "accuracy = '{:.2f}'.format(accuracy)\n",
    "print(f'หรือมีระดับความแม่นยำประมาณ {accuracy}%')"
   ]
  },
  {
   "cell_type": "code",
   "execution_count": null,
   "id": "0bd55d7d-fed1-4253-b27a-b4bb33ff5edf",
   "metadata": {},
   "outputs": [],
   "source": []
  }
 ],
 "metadata": {
  "kernelspec": {
   "display_name": "Python 3 (ipykernel)",
   "language": "python",
   "name": "python3"
  },
  "language_info": {
   "codemirror_mode": {
    "name": "ipython",
    "version": 3
   },
   "file_extension": ".py",
   "mimetype": "text/x-python",
   "name": "python",
   "nbconvert_exporter": "python",
   "pygments_lexer": "ipython3",
   "version": "3.13.0"
  }
 },
 "nbformat": 4,
 "nbformat_minor": 5
}
