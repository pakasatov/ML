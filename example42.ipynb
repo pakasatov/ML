{
 "cells": [
  {
   "cell_type": "code",
   "execution_count": null,
   "id": "b698fc71-76d4-4582-a740-1fbc6e580fd4",
   "metadata": {},
   "outputs": [],
   "source": []
  }
 ],
 "metadata": {
  "kernelspec": {
   "display_name": "",
   "name": ""
  },
  "language_info": {
   "name": ""
  }
 },
 "nbformat": 4,
 "nbformat_minor": 5
}
