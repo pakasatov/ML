{
 "cells": [
  {
   "cell_type": "code",
   "execution_count": 1,
   "id": "f1262c84-806a-4b2c-b03d-c918173871c8",
   "metadata": {},
   "outputs": [
    {
     "data": {
      "image/png": "[encoded data removed]",
      "text/plain": [
       "<Figure size 400x300 with 1 Axes>"
      ]
     },
     "metadata": {},
     "output_type": "display_data"
    },
    {
     "name": "stdout",
     "output_type": "stream",
     "text": [
      "สมการทำนายผลคือ: y = -19.07 + (0.45)x\n",
      "ปริมาณฝนที่ตก 90 มิลลิเมตร จะขายร่มได้ 21 อัน\n",
      "ปริมาณฝนที่ตก 100 มิลลิเมตร จะขายร่มได้ 26 อัน\n",
      "ปริมาณฝนที่ตก 120 มิลลิเมตร จะขายร่มได้ 35 อัน\n"
     ]
    }
   ],
   "source": [
    "#example 4-5\n",
    "\n",
    "from sklearn.linear_model import LinearRegression\n",
    "import numpy as np\n",
    "import pandas as pd\n",
    "import matplotlib.pyplot as plt\n",
    "\n",
    "df = pd.read_excel(r'data\\umbrellas_sold_1.xlsx')\n",
    "\n",
    "#with pd.option_context('display.max_rows', 6): display(df)\n",
    "    \n",
    "x = df['rainfall_mm']\n",
    "y = df['umbrellas_sold']\n",
    "\n",
    "plt.figure(figsize=(4, 3))\n",
    "plt.scatter(x, y)\n",
    "plt.show()\n",
    "\n",
    "x = np.array(x).reshape(-1, 1)\n",
    "\n",
    "model = LinearRegression()\n",
    "model.fit(x, y)\n",
    "\n",
    "ic = '{:.2f}'.format(model.intercept_)\n",
    "ce = '{:.2f}'.format(model.coef_[0])\n",
    "print(f'สมการทำนายผลคือ: y = {ic} + ({ce})x')\n",
    "\n",
    "x_predict = [[90], [100], [120]]\n",
    "y_predicted = model.predict(x_predict)\n",
    "\n",
    "#print()\n",
    "\n",
    "#แสดงผลการทำนายทั้งหมด ในแบบเลขจำนวนเต็ม (.0f)\n",
    "for (i, p) in enumerate(x_predict):\n",
    "    sale = '{:.0f}'.format(y_predicted[i])\n",
    "    print(f'ปริมาณฝนที่ตก {p[0]} มิลลิเมตร จะขายร่มได้ {sale} อัน')\n"
   ]
  },
  {
   "cell_type": "code",
   "execution_count": null,
   "id": "2bad1216-f3c4-4b06-a9ce-b9b22233b308",
   "metadata": {},
   "outputs": [],
   "source": []
  }
 ],
 "metadata": {
  "kernelspec": {
   "display_name": "Python 3 (ipykernel)",
   "language": "python",
   "name": "python3"
  },
  "language_info": {
   "codemirror_mode": {
    "name": "ipython",
    "version": 3
   },
   "file_extension": ".py",
   "mimetype": "text/x-python",
   "name": "python",
   "nbconvert_exporter": "python",
   "pygments_lexer": "ipython3",
   "version": "3.13.0"
  }
 },
 "nbformat": 4,
 "nbformat_minor": 5
}
